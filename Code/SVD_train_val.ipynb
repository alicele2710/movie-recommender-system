{
 "cells": [
  {
   "cell_type": "code",
   "execution_count": 1,
   "metadata": {},
   "outputs": [],
   "source": [
    "import pandas as pd\n",
    "import numpy as np\n",
    "import time\n",
    "from surprise import SVD, Reader, Dataset, accuracy, dump\n",
    "from surprise.model_selection import GridSearchCV, train_test_split"
   ]
  },
  {
   "cell_type": "code",
   "execution_count": 2,
   "metadata": {},
   "outputs": [
    {
     "data": {
      "text/html": [
       "<div>\n",
       "<style scoped>\n",
       "    .dataframe tbody tr th:only-of-type {\n",
       "        vertical-align: middle;\n",
       "    }\n",
       "\n",
       "    .dataframe tbody tr th {\n",
       "        vertical-align: top;\n",
       "    }\n",
       "\n",
       "    .dataframe thead th {\n",
       "        text-align: right;\n",
       "    }\n",
       "</style>\n",
       "<table border=\"1\" class=\"dataframe\">\n",
       "  <thead>\n",
       "    <tr style=\"text-align: right;\">\n",
       "      <th></th>\n",
       "      <th>user_id</th>\n",
       "      <th>movieid</th>\n",
       "      <th>watch_time</th>\n",
       "      <th>rating</th>\n",
       "    </tr>\n",
       "  </thead>\n",
       "  <tbody>\n",
       "    <tr>\n",
       "      <th>3421634</th>\n",
       "      <td>792595</td>\n",
       "      <td>the+great+train+robbery+1903</td>\n",
       "      <td>9</td>\n",
       "      <td>5.0</td>\n",
       "    </tr>\n",
       "    <tr>\n",
       "      <th>2369885</th>\n",
       "      <td>232684</td>\n",
       "      <td>aliens+1986</td>\n",
       "      <td>99</td>\n",
       "      <td>5.0</td>\n",
       "    </tr>\n",
       "    <tr>\n",
       "      <th>530027</th>\n",
       "      <td>656313</td>\n",
       "      <td>winged+migration+2001</td>\n",
       "      <td>99</td>\n",
       "      <td>5.0</td>\n",
       "    </tr>\n",
       "    <tr>\n",
       "      <th>530026</th>\n",
       "      <td>656281</td>\n",
       "      <td>too+many+cooks+2014</td>\n",
       "      <td>9</td>\n",
       "      <td>5.0</td>\n",
       "    </tr>\n",
       "    <tr>\n",
       "      <th>1147582</th>\n",
       "      <td>746802</td>\n",
       "      <td>dodsworth+1936</td>\n",
       "      <td>99</td>\n",
       "      <td>5.0</td>\n",
       "    </tr>\n",
       "  </tbody>\n",
       "</table>\n",
       "</div>"
      ],
      "text/plain": [
       "         user_id                       movieid  watch_time  rating\n",
       "3421634   792595  the+great+train+robbery+1903           9     5.0\n",
       "2369885   232684                   aliens+1986          99     5.0\n",
       "530027    656313         winged+migration+2001          99     5.0\n",
       "530026    656281           too+many+cooks+2014           9     5.0\n",
       "1147582   746802                dodsworth+1936          99     5.0"
      ]
     },
     "execution_count": 2,
     "metadata": {},
     "output_type": "execute_result"
    }
   ],
   "source": [
    "df_train = pd.read_csv('../Data/train.csv')\n",
    "df_train = df_train[~df_train['rating'].isna()]\n",
    "df_train = df_train.sort_values('rating',ascending=False).drop_duplicates(['user_id', 'movieid'])\n",
    "df_train.head()"
   ]
  },
  {
   "cell_type": "code",
   "execution_count": 3,
   "metadata": {},
   "outputs": [
    {
     "data": {
      "text/html": [
       "<div>\n",
       "<style scoped>\n",
       "    .dataframe tbody tr th:only-of-type {\n",
       "        vertical-align: middle;\n",
       "    }\n",
       "\n",
       "    .dataframe tbody tr th {\n",
       "        vertical-align: top;\n",
       "    }\n",
       "\n",
       "    .dataframe thead th {\n",
       "        text-align: right;\n",
       "    }\n",
       "</style>\n",
       "<table border=\"1\" class=\"dataframe\">\n",
       "  <thead>\n",
       "    <tr style=\"text-align: right;\">\n",
       "      <th></th>\n",
       "      <th>user_id</th>\n",
       "      <th>movieid</th>\n",
       "      <th>rating</th>\n",
       "    </tr>\n",
       "  </thead>\n",
       "  <tbody>\n",
       "    <tr>\n",
       "      <th>348803</th>\n",
       "      <td>190010</td>\n",
       "      <td>midnight+run+1988</td>\n",
       "      <td>5</td>\n",
       "    </tr>\n",
       "    <tr>\n",
       "      <th>276806</th>\n",
       "      <td>829519</td>\n",
       "      <td>alien+1979</td>\n",
       "      <td>5</td>\n",
       "    </tr>\n",
       "    <tr>\n",
       "      <th>276820</th>\n",
       "      <td>83418</td>\n",
       "      <td>excuse+me+for+living+2012</td>\n",
       "      <td>5</td>\n",
       "    </tr>\n",
       "    <tr>\n",
       "      <th>56491</th>\n",
       "      <td>634490</td>\n",
       "      <td>harry+potter+and+the+deathly+hallows+part+2+2011</td>\n",
       "      <td>5</td>\n",
       "    </tr>\n",
       "    <tr>\n",
       "      <th>106203</th>\n",
       "      <td>864830</td>\n",
       "      <td>about+elly+2009</td>\n",
       "      <td>5</td>\n",
       "    </tr>\n",
       "  </tbody>\n",
       "</table>\n",
       "</div>"
      ],
      "text/plain": [
       "        user_id                                           movieid  rating\n",
       "348803   190010                                 midnight+run+1988       5\n",
       "276806   829519                                        alien+1979       5\n",
       "276820    83418                         excuse+me+for+living+2012       5\n",
       "56491    634490  harry+potter+and+the+deathly+hallows+part+2+2011       5\n",
       "106203   864830                                   about+elly+2009       5"
      ]
     },
     "execution_count": 3,
     "metadata": {},
     "output_type": "execute_result"
    }
   ],
   "source": [
    "df_val = pd.read_csv('../Data/val.csv')\n",
    "df_val = df_val[~df_val['rating'].isna()]\n",
    "df_val = df_val.sort_values('rating',ascending=False).drop_duplicates(['user_id', 'movieid'])\n",
    "df_val.head()"
   ]
  },
  {
   "cell_type": "code",
   "execution_count": 4,
   "metadata": {},
   "outputs": [],
   "source": [
    "reader = Reader(rating_scale=(1,5))\n",
    "train_data = Dataset.load_from_df(df_train[['user_id','movieid','rating']], reader).build_full_trainset()\n",
    "val_data = Dataset.load_from_df(df_val[['user_id','movieid','rating']], reader).build_full_trainset().build_testset()"
   ]
  },
  {
   "cell_type": "code",
   "execution_count": 5,
   "metadata": {},
   "outputs": [
    {
     "name": "stdout",
     "output_type": "stream",
     "text": [
      "RMSE: 0.7377\n",
      "RMSE: 0.7393\n",
      "RMSE: 0.7404\n",
      "RMSE: 0.7558\n",
      "RMSE: 0.7548\n",
      "RMSE: 0.7538\n",
      "RMSE: 0.7899\n",
      "RMSE: 0.7817\n",
      "RMSE: 0.7753\n",
      "RMSE: 0.7277\n",
      "RMSE: 0.7298\n",
      "RMSE: 0.7314\n",
      "RMSE: 0.7430\n",
      "RMSE: 0.7427\n",
      "RMSE: 0.7426\n",
      "RMSE: 0.7700\n",
      "RMSE: 0.7639\n",
      "RMSE: 0.7593\n",
      "RMSE: 0.7209\n",
      "RMSE: 0.7234\n",
      "RMSE: 0.7254\n",
      "RMSE: 0.7341\n",
      "RMSE: 0.7345\n",
      "RMSE: 0.7350\n",
      "RMSE: 0.7567\n",
      "RMSE: 0.7524\n",
      "RMSE: 0.7492\n"
     ]
    }
   ],
   "source": [
    "lowest_err = np.inf\n",
    "best_hyperparams_setting = None\n",
    "hyperparams_setting = [(n_epochs, lr_all, reg_all)\n",
    "                       for n_epochs in [10,20,30]\n",
    "                       for lr_all in [0.001, 0.002, 0.005]\n",
    "                       for reg_all in [0.4, 0.6, 0.8]]\n",
    "\n",
    "for hyperparam in hyperparams_setting:\n",
    "    n_epochs, lr_all, reg_all = hyperparam\n",
    "    model = SVD(n_epochs=n_epochs, lr_all=lr_all, reg_all=reg_all, random_state=42)\n",
    "    model.fit(train_data)\n",
    "    predictions = model.test(val_data)\n",
    "    rmse = accuracy.rmse(predictions)\n",
    "    if rmse < lowest_err:\n",
    "        lowest_err = rmse\n",
    "        best_hyperparams_setting = hyperparam"
   ]
  },
  {
   "cell_type": "code",
   "execution_count": 6,
   "metadata": {},
   "outputs": [
    {
     "data": {
      "text/plain": [
       "(30, 0.001, 0.4)"
      ]
     },
     "execution_count": 6,
     "metadata": {},
     "output_type": "execute_result"
    }
   ],
   "source": [
    "best_hyperparams_setting "
   ]
  },
  {
   "cell_type": "code",
   "execution_count": 10,
   "metadata": {},
   "outputs": [
    {
     "data": {
      "text/plain": [
       "0.7209394985039652"
      ]
     },
     "execution_count": 10,
     "metadata": {},
     "output_type": "execute_result"
    }
   ],
   "source": [
    "lowest_err"
   ]
  },
  {
   "cell_type": "code",
   "execution_count": 7,
   "metadata": {},
   "outputs": [
    {
     "data": {
      "text/plain": [
       "<surprise.prediction_algorithms.matrix_factorization.SVD at 0x10ed7dcc0>"
      ]
     },
     "execution_count": 7,
     "metadata": {},
     "output_type": "execute_result"
    }
   ],
   "source": [
    "model = SVD(n_epochs = best_hyperparams_setting[0],\n",
    "            lr_all = best_hyperparams_setting[1],\n",
    "            reg_all = best_hyperparams_setting[2],\n",
    "            random_state = 42)\n",
    "model.fit(train_data)"
   ]
  },
  {
   "attachments": {},
   "cell_type": "markdown",
   "metadata": {},
   "source": [
    "# Train the model on full training data"
   ]
  },
  {
   "cell_type": "code",
   "execution_count": 8,
   "metadata": {},
   "outputs": [],
   "source": [
    "# Concatenate training and validation dataset to build full training set\n",
    "full_train_set = Dataset.load_from_df(pd.concat([df_train,df_val])[['user_id','movieid','rating']], reader).build_full_trainset()"
   ]
  },
  {
   "cell_type": "code",
   "execution_count": 9,
   "metadata": {},
   "outputs": [
    {
     "name": "stdout",
     "output_type": "stream",
     "text": [
      "CPU times: user 39.7 s, sys: 729 ms, total: 40.5 s\n",
      "Wall time: 40.8 s\n"
     ]
    },
    {
     "data": {
      "text/plain": [
       "<surprise.prediction_algorithms.matrix_factorization.SVD at 0x10ed7f880>"
      ]
     },
     "execution_count": 9,
     "metadata": {},
     "output_type": "execute_result"
    }
   ],
   "source": [
    "%%time\n",
    "# Train the model\n",
    "model = SVD(n_epochs = best_hyperparams_setting[0],\n",
    "            lr_all = best_hyperparams_setting[1],\n",
    "            reg_all = best_hyperparams_setting[2],\n",
    "            random_state = 42)\n",
    "model.fit(full_train_set)"
   ]
  },
  {
   "cell_type": "code",
   "execution_count": null,
   "metadata": {},
   "outputs": [],
   "source": [
    "# Save\n",
    "dump.dump('SVD_V1', algo = model)"
   ]
  }
 ],
 "metadata": {
  "kernelspec": {
   "display_name": "mlip",
   "language": "python",
   "name": "python3"
  },
  "language_info": {
   "codemirror_mode": {
    "name": "ipython",
    "version": 3
   },
   "file_extension": ".py",
   "mimetype": "text/x-python",
   "name": "python",
   "nbconvert_exporter": "python",
   "pygments_lexer": "ipython3",
   "version": "3.10.9"
  },
  "orig_nbformat": 4,
  "vscode": {
   "interpreter": {
    "hash": "a069d303e13497873c1f46d5839e5f67bd7d90d56c99abb155d5332f8e98320f"
   }
  }
 },
 "nbformat": 4,
 "nbformat_minor": 2
}
