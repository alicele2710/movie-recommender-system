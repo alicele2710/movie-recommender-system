{
 "cells": [
  {
   "cell_type": "code",
   "execution_count": 1,
   "metadata": {},
   "outputs": [],
   "source": [
    "import pandas as pd\n",
    "import numpy as np\n",
    "from surprise import dump\n",
    "import json, io, time"
   ]
  },
  {
   "cell_type": "code",
   "execution_count": 2,
   "metadata": {},
   "outputs": [],
   "source": [
    "## Retrive top 20 movies sorted by rating\n",
    "# train\n",
    "df_train = pd.read_csv('../Data/train.csv')\n",
    "df_train = df_train[~df_train['rating'].isna()]\n",
    "df_train = df_train.sort_values('rating',ascending=False).drop_duplicates(['user_id', 'movieid'])\n",
    "\n",
    "# validation\n",
    "df_val = pd.read_csv('../Data/val.csv')\n",
    "df_val = df_val[~df_val['rating'].isna()]\n",
    "df_val = df_val.sort_values('rating',ascending=False).drop_duplicates(['user_id', 'movieid'])\n",
    "\n",
    "# top 20 movies required to recommend to unseen user\n",
    "df_movie = pd.concat([df_train,df_val]).groupby('movieid')['rating'].agg(['sum','count'])\n",
    "df_movie['sum_product'] = df_movie['sum'] * df_movie['count']\n",
    "df_movie['avg_rating'] = df_movie['sum'] / df_movie['count']\n",
    "top20_movie = df_movie.sort_values(by='avg_rating', ascending=False)[:20].index.tolist()\n",
    "\n",
    "# save top 20 movies to json file\n",
    "with open('../Data/top20_movie.json', 'w', encoding='utf-8') as f:\n",
    "    json.dump(top20_movie, f, ensure_ascii=False)\n",
    "\n",
    "# prediction function\n",
    "def get_recommend_movie(model, user_id, n = 20):\n",
    "    #if the user in the training set\n",
    "    if (model.trainset.knows_user(user_id)):\n",
    "        # get movie list\n",
    "        movie_list = []\n",
    "        for i in range (model.trainset.n_items):\n",
    "            movie_list.append(model.trainset.to_raw_iid(i))\n",
    "\n",
    "        # get predicted rating for every movie\n",
    "        result = []\n",
    "        for movie in movie_list:\n",
    "            prediction = model.predict(user_id, movie)\n",
    "            uid = prediction.uid\n",
    "            movie = prediction.iid\n",
    "            rating = prediction.est\n",
    "            result.append((uid,movie,rating))\n",
    "\n",
    "        # list of watched movie\n",
    "        watched_movie = []\n",
    "        for iid,_ in model.trainset.ur[user_id]:\n",
    "            movie_name = model.trainset.to_raw_iid(iid)\n",
    "            watched_movie.append(movie_name)\n",
    "        \n",
    "        result_df = pd.DataFrame(result, columns=['user_id','movie_id','predicted_rating']).sort_values(by = 'predicted_rating', ascending=False)\n",
    "        result_df = result_df[~result_df['movie_id'].isin(watched_movie)][:n]\n",
    "        return result_df.movie_id.values.tolist()\n",
    "        \n",
    "    # else return top 20 movies\n",
    "    else:\n",
    "        # load precalculated top 20 movie list\n",
    "        with open('../Data/top20_movie.json', 'r') as f:\n",
    "            data = f.read()    \n",
    "        top20_movie = json.loads(data)\n",
    "\n",
    "        return top20_movie\n",
    "    "
   ]
  },
  {
   "cell_type": "code",
   "execution_count": 3,
   "metadata": {},
   "outputs": [
    {
     "name": "stdout",
     "output_type": "stream",
     "text": [
      "CPU times: user 1.34 s, sys: 219 ms, total: 1.56 s\n",
      "Wall time: 1.56 s\n"
     ]
    }
   ],
   "source": [
    "%%time\n",
    "# load pre-trained model    \n",
    "model = dump.load('./SVD_V1')[1]"
   ]
  },
  {
   "cell_type": "code",
   "execution_count": 4,
   "metadata": {},
   "outputs": [
    {
     "name": "stdout",
     "output_type": "stream",
     "text": [
      "CPU times: user 95.5 ms, sys: 8.79 ms, total: 104 ms\n",
      "Wall time: 107 ms\n"
     ]
    },
    {
     "data": {
      "text/plain": [
       "['the+usual+suspects+1995',\n",
       " 'the+godfather+part+ii+1974',\n",
       " 'rear+window+1954',\n",
       " 'dr.+strangelove+or+how+i+learned+to+stop+worrying+and+love+the+bomb+1964',\n",
       " 'louis+c.k.+shameless+2007',\n",
       " 'schindlers+list+1993',\n",
       " 'the+lives+of+others+2006',\n",
       " 'aparajito+1956',\n",
       " 'louis+c.k.+live+at+the+beacon+theater+2011',\n",
       " 'lacombe_+lucien+1974',\n",
       " '42+up+1998',\n",
       " 'amlie+2001',\n",
       " 'the+wrong+trousers+1993',\n",
       " 'life+is+beautiful+1997',\n",
       " 'one+day+in+september+1999',\n",
       " 'louis+c.k.+oh+my+god+2013',\n",
       " 'the+sorrow+and+the+pity+1969',\n",
       " 'the+intouchables+2011',\n",
       " 'the+silence+of+the+lambs+1991',\n",
       " 'some+folks+call+it+a+sling+blade+1994']"
      ]
     },
     "execution_count": 4,
     "metadata": {},
     "output_type": "execute_result"
    }
   ],
   "source": [
    "%%time\n",
    "#seen user\n",
    "get_recommend_movie(model, 23092, 20)"
   ]
  },
  {
   "cell_type": "code",
   "execution_count": 5,
   "metadata": {},
   "outputs": [
    {
     "name": "stdout",
     "output_type": "stream",
     "text": [
      "CPU times: user 248 µs, sys: 320 µs, total: 568 µs\n",
      "Wall time: 353 µs\n"
     ]
    },
    {
     "data": {
      "text/plain": [
       "['the+shawshank+redemption+1994',\n",
       " 'the+usual+suspects+1995',\n",
       " 'the+godfather+1972',\n",
       " 'schindlers+list+1993',\n",
       " 'rear+window+1954',\n",
       " 'the+godfather+part+ii+1974',\n",
       " 'the+lives+of+others+2006',\n",
       " 'pulp+fiction+1994',\n",
       " 'raiders+of+the+lost+ark+1981',\n",
       " 'the+lord+of+the+rings+the+return+of+the+king+2003',\n",
       " 'dr.+strangelove+or+how+i+learned+to+stop+worrying+and+love+the+bomb+1964',\n",
       " 'the+lord+of+the+rings+the+fellowship+of+the+ring+2001',\n",
       " 'star+wars+1977',\n",
       " 'aparajito+1956',\n",
       " 'the+lord+of+the+rings+the+two+towers+2002',\n",
       " 'fight+club+1999',\n",
       " 'the+empire+strikes+back+1980',\n",
       " 'the+wrong+trousers+1993',\n",
       " 'one+flew+over+the+cuckoos+nest+1975',\n",
       " 'ordet+1955']"
      ]
     },
     "execution_count": 5,
     "metadata": {},
     "output_type": "execute_result"
    }
   ],
   "source": [
    "%%time\n",
    "#unseen user\n",
    "get_recommend_movie(model, 123243578924203546, 20)"
   ]
  },
  {
   "attachments": {},
   "cell_type": "markdown",
   "metadata": {},
   "source": [
    "# Average prediction time computed over 100 prediction requests"
   ]
  },
  {
   "cell_type": "code",
   "execution_count": 6,
   "metadata": {},
   "outputs": [],
   "source": [
    "time_list = []\n",
    "for i in range(100):\n",
    "    user_id = np.random.randint(low = 0, high = model.trainset.all_users()[-1])\n",
    "    start_time = time.time()\n",
    "    get_recommend_movie(model, user_id, 20)\n",
    "    time_list.append((time.time() - start_time))\n",
    "    # print(\"--- %s seconds ---\" % (time.time() - start_time))"
   ]
  },
  {
   "cell_type": "code",
   "execution_count": 7,
   "metadata": {},
   "outputs": [
    {
     "data": {
      "text/plain": [
       "0.08785532474517822"
      ]
     },
     "execution_count": 7,
     "metadata": {},
     "output_type": "execute_result"
    }
   ],
   "source": [
    "np.mean(time_list)"
   ]
  },
  {
   "cell_type": "code",
   "execution_count": 8,
   "metadata": {},
   "outputs": [
    {
     "data": {
      "text/plain": [
       "0.09083497524261475"
      ]
     },
     "execution_count": 8,
     "metadata": {},
     "output_type": "execute_result"
    }
   ],
   "source": [
    "np.median(time_list)"
   ]
  },
  {
   "cell_type": "code",
   "execution_count": null,
   "metadata": {},
   "outputs": [],
   "source": []
  }
 ],
 "metadata": {
  "kernelspec": {
   "display_name": "mlip",
   "language": "python",
   "name": "python3"
  },
  "language_info": {
   "codemirror_mode": {
    "name": "ipython",
    "version": 3
   },
   "file_extension": ".py",
   "mimetype": "text/x-python",
   "name": "python",
   "nbconvert_exporter": "python",
   "pygments_lexer": "ipython3",
   "version": "3.10.9"
  },
  "orig_nbformat": 4,
  "vscode": {
   "interpreter": {
    "hash": "a069d303e13497873c1f46d5839e5f67bd7d90d56c99abb155d5332f8e98320f"
   }
  }
 },
 "nbformat": 4,
 "nbformat_minor": 2
}
